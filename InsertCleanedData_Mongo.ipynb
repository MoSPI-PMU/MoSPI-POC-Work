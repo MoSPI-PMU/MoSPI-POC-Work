{
 "cells": [
  {
   "cell_type": "code",
   "execution_count": null,
   "id": "1a125b7d",
   "metadata": {},
   "outputs": [],
   "source": [
    "import pymongo\n",
    "import pandas as pd\n",
    "import pprint\n",
    "mongo_uri = \"mongodb://localhost:27017/\"  \n",
    "client = pymongo.MongoClient(mongo_uri)\n",
    "read_file = pd.read_excel(\"C:\\\\Users\\\\FJ795RQ\\\\Downloads\\\\Number of Schools by School Management and School Category_Report type - National_21.xlsx\")\n",
    "data = pd.DataFrame(pd.read_excel(\"C:\\\\Users\\\\FJ795RQ\\\\Downloads\\\\Number of Schools by School Management and School Category_Report type - National_21.xlsx\",header=3))\n",
    "db = client['EData']\n",
    "collection = db['ED1']\n",
    "data.reset_index(inplace=True)\n",
    "data_dict = data.to_dict(\"records\")\n",
    "# Insert collection\n",
    "collection.insert_many(data_dict)\n"
   ]
  }
 ],
 "metadata": {
  "kernelspec": {
   "display_name": "Python 3 (ipykernel)",
   "language": "python",
   "name": "python3"
  },
  "language_info": {
   "codemirror_mode": {
    "name": "ipython",
    "version": 3
   },
   "file_extension": ".py",
   "mimetype": "text/x-python",
   "name": "python",
   "nbconvert_exporter": "python",
   "pygments_lexer": "ipython3",
   "version": "3.9.7"
  }
 },
 "nbformat": 4,
 "nbformat_minor": 5
}
